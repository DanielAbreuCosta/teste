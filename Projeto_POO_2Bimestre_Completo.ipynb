{
 "cells": [
  {
   "cell_type": "markdown",
   "id": "fcbe0b0b",
   "metadata": {},
   "source": [
    "# 📘 Projeto de Programação Orientada a Objetos – 2º Bimestre\n",
    "\n",
    "**Nome do Aluno:**                      \n",
    "\n",
    "**Turma:**\n",
    "\n",
    "**Tema Escolhido:**"
   ]
  },
  {
   "cell_type": "markdown",
   "id": "47e697ce",
   "metadata": {},
   "source": [
    "Lembre-se esse projeto deve ser personalizado, todas as classe e metodos devem ter uma referencia ao seu nome, exemplo:\n",
    "\n",
    "class Carro_Fabio:\n",
    "\n",
    "    def __init__(self, tipo, cor, rodas):\n",
    "        self.tipo = tipo\n",
    "        self.cor = cor\n",
    "        self.rodas = rodas\n",
    "        \n",
    "    def alterar_cor_Fabio(self, nova_cor):\n",
    "        self.cor = nova_cor\n",
    "        return self.cor\n",
    "    "
   ]
  },
  {
   "cell_type": "markdown",
   "id": "bf0b9458",
   "metadata": {},
   "source": [
    "## PARTE 1 – Classe Principal e Objetos\n",
    "\n",
    "**Tarefas:**\n",
    "- Definir e criar a classe principal com pelo menos 3 atributos.\n",
    "- Implementar o método construtor (`__init__`).\n",
    "- Criar pelo menos 2 objetos da classe principal.\n",
    "- Implementar um método de exibição de dados.\n",
    "\n",
    "**Código:**"
   ]
  },
  {
   "cell_type": "code",
   "execution_count": null,
   "id": "5721fa89",
   "metadata": {},
   "outputs": [],
   "source": [
    "class Usuario:\n",
    "    def __init__(self, nome, idade, email):\n",
    "        self.nome = nome\n",
    "        self.idade = idade\n",
    "        self.email = email\n",
    "\n",
    "    def exibir_dados(self):\n",
    "        print(f\"Nome: {self.nome}\")\n",
    "        print(f\"Idade: {self.idade}\")\n",
    "        print(f\"E-mail: {self.email}\")\n",
    "        print(\"-\" * 30)\n",
    "\n",
    "usuario1 = Usuario(\"Ana Souza\", 28, \"ana.souza@email.com\")\n",
    "usuario2 = Usuario(\"Carlos Lima\", 35, \"carlos.lima@email.com\")\n",
    "\n",
    "usuario1.exibir_dados()\n",
    "usuario2.exibir_dados()\n"
   ]
  },
  {
   "cell_type": "markdown",
   "id": "f2cf3375",
   "metadata": {},
   "source": [
    "## PARTE 2 – Métodos e Herança\n",
    "\n",
    "**Tarefas:**\n",
    "- Criar pelo menos 2 métodos de ação para a classe principal.\n",
    "- Criar uma subclasse herdando da classe principal.\n",
    "- Adicionar pelo menos 1 novo atributo e 1 novo método exclusivo na subclasse.\n",
    "- Utilizar `super()` no construtor da subclasse.\n",
    "\n",
    "**Código:**"
   ]
  },
  {
   "cell_type": "code",
   "execution_count": null,
   "id": "5f456eb1",
   "metadata": {},
   "outputs": [],
   "source": [
    "class Usuario:\n",
    "    def __init__(self, nome, idade, email):\n",
    "        self.nome = nome\n",
    "        self.idade = idade\n",
    "        self.email = email\n",
    "\n",
    "    def exibir_dados(self):\n",
    "        print(f\"Nome: {self.nome}\")\n",
    "        print(f\"Idade: {self.idade}\")\n",
    "        print(f\"E-mail: {self.email}\")\n",
    "\n",
    "    def enviar_mensagem(self, mensagem):\n",
    "        print(f\"Enviando mensagem para {self.nome}: {mensagem}\")\n",
    "\n",
    "    def atualizar_email(self, novo_email):\n",
    "        self.email = novo_email\n",
    "        print(f\"E-mail de {self.nome} atualizado para: {self.email}\")\n",
    "\n",
    "class UsuarioPremium(Usuario):\n",
    "    def __init__(self, nome, idade, email, plano):\n",
    "        super().__init__(nome, idade, email)\n",
    "        self.plano = plano \n",
    "\n",
    "    def beneficios_premium(self):\n",
    "        print(f\"{self.nome} possui o plano {self.plano} com benefícios exclusivos!\")\n",
    "\n",
    "    def exibir_dados(self):\n",
    "        super().exibir_dados()\n",
    "        print(f\"Tipo de usuário: PREMIUM ({self.plano})\")\n",
    "\n",
    "usuario_comum = Usuario(\"Bruno Ferreira\", 30, \"bruno@email.com\")\n",
    "usuario_premium = UsuarioPremium(\"Larissa Torres\", 27, \"larissa@email.com\", \"Gold\")\n",
    "\n",
    "usuario_comum.exibir_dados()\n",
    "usuario_comum.enviar_mensagem(\"Bem-vindo à plataforma!\")\n",
    "usuario_comum.atualizar_email(\"bruno.novo@email.com\")\n",
    "\n",
    "print(\"-\" * 40)\n",
    "\n",
    "usuario_premium.exibir_dados()\n",
    "usuario_premium.beneficios_premium()\n"
   ]
  },
  {
   "cell_type": "markdown",
   "id": "3e0a77b0",
   "metadata": {},
   "source": [
    "## PARTE 3 – Encapsulamento e Abstração\n",
    "\n",
    "**Tarefas:**\n",
    "- Tornar pelo menos 1 atributo da classe principal privado (`__atributo`).\n",
    "- Criar métodos `get` e `set` para o atributo privado.\n",
    "- Implementar um método que contenha lógica interna (ex: cálculo, verificação).\n",
    "\n",
    "**Código:**"
   ]
  },
  {
   "cell_type": "code",
   "execution_count": null,
   "id": "0bdb445e",
   "metadata": {},
   "outputs": [],
   "source": [
    "class Usuario:\n",
    "    def __init__(self, nome, idade, email):\n",
    "        self.nome = nome\n",
    "        self.__idade = idade \n",
    "        self.email = email\n",
    "\n",
    "    def get_idade(self):\n",
    "        return self.__idade\n",
    "\n",
    "    def set_idade(self, nova_idade):\n",
    "        if nova_idade >= 0:\n",
    "            self.__idade = nova_idade\n",
    "            print(f\"Idade de {self.nome} atualizada para {nova_idade} anos.\")\n",
    "        else:\n",
    "            print(\"Idade inválida. Não foi possível atualizar.\")\n",
    "\n",
    "    def verificar_maioridade(self):\n",
    "        if self.__idade >= 18:\n",
    "            print(f\"{self.nome} é maior de idade.\")\n",
    "        else:\n",
    "            print(f\"{self.nome} é menor de idade.\")\n",
    "\n",
    "    def exibir_dados(self):\n",
    "        print(f\"Nome: {self.nome}\")\n",
    "        print(f\"Idade: {self.__idade}\")\n",
    "        print(f\"E-mail: {self.email}\")\n",
    "\n",
    "usuario = Usuario(\"Juliana Alves\", 16, \"juliana@email.com\")\n",
    "usuario.exibir_dados()\n",
    "usuario.verificar_maioridade()\n",
    "\n",
    "print(\"\\nTentando atualizar idade para -5...\")\n",
    "usuario.set_idade(-5)\n",
    "\n",
    "print(\"\\nAtualizando idade para 19...\")\n",
    "usuario.set_idade(19)\n",
    "usuario.verificar_maioridade()\n"
   ]
  },
  {
   "cell_type": "code",
   "execution_count": null,
   "id": "56a4c46a",
   "metadata": {},
   "outputs": [],
   "source": []
  },
  {
   "cell_type": "markdown",
   "id": "d8bbf974",
   "metadata": {},
   "source": [
    "## PARTE 5 – Projeto Final e Organização\n",
    "\n",
    "**Tarefas:**\n",
    "- Consolidar todas as partes do projeto em um único script organizado.\n",
    "- Comentar o código explicando cada parte.\n",
    "- Testar todas as funcionalidades.\n",
    "\n",
    "**Código:**"
   ]
  },
  {
   "cell_type": "code",
   "execution_count": null,
   "id": "54b3cdd7",
   "metadata": {},
   "outputs": [],
   "source": [
    "# Desenvolva aqui o código da Parte 5"
   ]
  }
 ],
 "metadata": {
  "kernelspec": {
   "display_name": "Python 3 (ipykernel)",
   "language": "python",
   "name": "python3"
  },
  "language_info": {
   "codemirror_mode": {
    "name": "ipython",
    "version": 3
   },
   "file_extension": ".py",
   "mimetype": "text/x-python",
   "name": "python",
   "nbconvert_exporter": "python",
   "pygments_lexer": "ipython3",
   "version": "3.9.13"
  }
 },
 "nbformat": 4,
 "nbformat_minor": 5
}
